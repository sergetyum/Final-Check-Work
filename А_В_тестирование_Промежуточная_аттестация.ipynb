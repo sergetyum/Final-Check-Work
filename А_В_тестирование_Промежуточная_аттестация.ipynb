{
  "nbformat": 4,
  "nbformat_minor": 0,
  "metadata": {
    "colab": {
      "provenance": [],
      "mount_file_id": "11NEERT7UQCECMgjHEqdgxWELYFw_bWNW",
      "authorship_tag": "ABX9TyOI+l+oKpAWG7Lwa2JQ+WMv",
      "include_colab_link": true
    },
    "kernelspec": {
      "name": "python3",
      "display_name": "Python 3"
    },
    "language_info": {
      "name": "python"
    }
  },
  "cells": [
    {
      "cell_type": "markdown",
      "metadata": {
        "id": "view-in-github",
        "colab_type": "text"
      },
      "source": [
        "<a href=\"https://colab.research.google.com/github/sergetyum/Final_Check_Work/blob/main/%D0%90_%D0%92_%D1%82%D0%B5%D1%81%D1%82%D0%B8%D1%80%D0%BE%D0%B2%D0%B0%D0%BD%D0%B8%D0%B5_%D0%9F%D1%80%D0%BE%D0%BC%D0%B5%D0%B6%D1%83%D1%82%D0%BE%D1%87%D0%BD%D0%B0%D1%8F_%D0%B0%D1%82%D1%82%D0%B5%D1%81%D1%82%D0%B0%D1%86%D0%B8%D1%8F.ipynb\" target=\"_parent\"><img src=\"https://colab.research.google.com/assets/colab-badge.svg\" alt=\"Open In Colab\"/></a>"
      ]
    },
    {
      "cell_type": "markdown",
      "source": [
        "## **A/B-тестирование (семинары)**\n",
        "\n",
        "### **Урок 9. Python применение продвинутых методов**\n",
        "\n",
        "Проанализируйте результаты эксперимента и напишите свои рекомендации менеджеру.\n",
        "\n",
        "Mobile Games AB Testing with Cookie Cats"
      ],
      "metadata": {
        "id": "ipqkn1QbZSi9"
      }
    },
    {
      "cell_type": "markdown",
      "source": [
        "Дано:\n",
        "\n",
        "userid - уникальный номер игрока\n",
        "\n",
        "version - версия контрольной группы: gate30 (с уровнем 30) или gate40 (с уровнем 40)\n",
        "\n",
        "sum_gamerounds - количество игровых раундов, проведенных игроком в течение первых 14 дней после установки\n",
        "\n",
        "retention_1 - вернулся ли игрок через 1 день после установки\n",
        "\n",
        "retention_7 - вернулся ли игрок через 7 дней после установки\n"
      ],
      "metadata": {
        "id": "P_O7s_thAbPC"
      }
    },
    {
      "cell_type": "markdown",
      "source": [
        "## Решение"
      ],
      "metadata": {
        "id": "CFZA-w9ZadXT"
      }
    },
    {
      "cell_type": "code",
      "source": [],
      "metadata": {
        "id": "Ea_iiFIRCcD5"
      },
      "execution_count": null,
      "outputs": []
    },
    {
      "cell_type": "markdown",
      "source": [
        "Загрузка библиотек"
      ],
      "metadata": {
        "id": "f8hvjeg1HHuW"
      }
    },
    {
      "cell_type": "code",
      "source": [
        "from scipy.stats import ttest_1samp\n",
        "import numpy as np\n",
        "import pandas as pd\n",
        "\n",
        "\n",
        "from scipy.stats import norm, t, kstest, shapiro\n",
        "import statsmodels.api as sm\n",
        "from matplotlib import pyplot as plt\n",
        "\n",
        "\n",
        "import warnings\n",
        "warnings.filterwarnings('ignore')\n",
        "warnings.warn('DelftStack')\n",
        "warnings.warn('Do not show this message')"
      ],
      "metadata": {
        "id": "nkTnQYyq7eSg"
      },
      "execution_count": 3,
      "outputs": []
    },
    {
      "cell_type": "markdown",
      "source": [
        "Загружаем файл \"Промежуточная аттестация\" с google диска и выведем первые 5 строк"
      ],
      "metadata": {
        "id": "vL7UcelkOWjJ"
      }
    },
    {
      "cell_type": "code",
      "source": [
        "from google.colab import drive\n",
        "drive.mount('/content/drive')\n",
        "\n",
        "data = pd.read_excel('/content/drive/MyDrive/Промежуточная аттестация.xlsx')\n",
        "\n",
        "data.head(5)"
      ],
      "metadata": {
        "colab": {
          "base_uri": "https://localhost:8080/",
          "height": 223
        },
        "id": "lihwNnjqO2nJ",
        "outputId": "209e2171-9e33-4483-87ad-de72f9429602"
      },
      "execution_count": 4,
      "outputs": [
        {
          "output_type": "stream",
          "name": "stdout",
          "text": [
            "Drive already mounted at /content/drive; to attempt to forcibly remount, call drive.mount(\"/content/drive\", force_remount=True).\n"
          ]
        },
        {
          "output_type": "execute_result",
          "data": {
            "text/plain": [
              "   userid  version  sum_gamerounds  retention_1  retention_7\n",
              "0     116  gate_30               3            0            0\n",
              "1     337  gate_30              38            1            0\n",
              "2     377  gate_40             165            1            0\n",
              "3     483  gate_40               1            0            0\n",
              "4     488  gate_40             179            1            1"
            ],
            "text/html": [
              "\n",
              "  <div id=\"df-6119c15a-c5e7-41d9-ab93-e6c60ed3f7a4\">\n",
              "    <div class=\"colab-df-container\">\n",
              "      <div>\n",
              "<style scoped>\n",
              "    .dataframe tbody tr th:only-of-type {\n",
              "        vertical-align: middle;\n",
              "    }\n",
              "\n",
              "    .dataframe tbody tr th {\n",
              "        vertical-align: top;\n",
              "    }\n",
              "\n",
              "    .dataframe thead th {\n",
              "        text-align: right;\n",
              "    }\n",
              "</style>\n",
              "<table border=\"1\" class=\"dataframe\">\n",
              "  <thead>\n",
              "    <tr style=\"text-align: right;\">\n",
              "      <th></th>\n",
              "      <th>userid</th>\n",
              "      <th>version</th>\n",
              "      <th>sum_gamerounds</th>\n",
              "      <th>retention_1</th>\n",
              "      <th>retention_7</th>\n",
              "    </tr>\n",
              "  </thead>\n",
              "  <tbody>\n",
              "    <tr>\n",
              "      <th>0</th>\n",
              "      <td>116</td>\n",
              "      <td>gate_30</td>\n",
              "      <td>3</td>\n",
              "      <td>0</td>\n",
              "      <td>0</td>\n",
              "    </tr>\n",
              "    <tr>\n",
              "      <th>1</th>\n",
              "      <td>337</td>\n",
              "      <td>gate_30</td>\n",
              "      <td>38</td>\n",
              "      <td>1</td>\n",
              "      <td>0</td>\n",
              "    </tr>\n",
              "    <tr>\n",
              "      <th>2</th>\n",
              "      <td>377</td>\n",
              "      <td>gate_40</td>\n",
              "      <td>165</td>\n",
              "      <td>1</td>\n",
              "      <td>0</td>\n",
              "    </tr>\n",
              "    <tr>\n",
              "      <th>3</th>\n",
              "      <td>483</td>\n",
              "      <td>gate_40</td>\n",
              "      <td>1</td>\n",
              "      <td>0</td>\n",
              "      <td>0</td>\n",
              "    </tr>\n",
              "    <tr>\n",
              "      <th>4</th>\n",
              "      <td>488</td>\n",
              "      <td>gate_40</td>\n",
              "      <td>179</td>\n",
              "      <td>1</td>\n",
              "      <td>1</td>\n",
              "    </tr>\n",
              "  </tbody>\n",
              "</table>\n",
              "</div>\n",
              "      <button class=\"colab-df-convert\" onclick=\"convertToInteractive('df-6119c15a-c5e7-41d9-ab93-e6c60ed3f7a4')\"\n",
              "              title=\"Convert this dataframe to an interactive table.\"\n",
              "              style=\"display:none;\">\n",
              "        \n",
              "  <svg xmlns=\"http://www.w3.org/2000/svg\" height=\"24px\"viewBox=\"0 0 24 24\"\n",
              "       width=\"24px\">\n",
              "    <path d=\"M0 0h24v24H0V0z\" fill=\"none\"/>\n",
              "    <path d=\"M18.56 5.44l.94 2.06.94-2.06 2.06-.94-2.06-.94-.94-2.06-.94 2.06-2.06.94zm-11 1L8.5 8.5l.94-2.06 2.06-.94-2.06-.94L8.5 2.5l-.94 2.06-2.06.94zm10 10l.94 2.06.94-2.06 2.06-.94-2.06-.94-.94-2.06-.94 2.06-2.06.94z\"/><path d=\"M17.41 7.96l-1.37-1.37c-.4-.4-.92-.59-1.43-.59-.52 0-1.04.2-1.43.59L10.3 9.45l-7.72 7.72c-.78.78-.78 2.05 0 2.83L4 21.41c.39.39.9.59 1.41.59.51 0 1.02-.2 1.41-.59l7.78-7.78 2.81-2.81c.8-.78.8-2.07 0-2.86zM5.41 20L4 18.59l7.72-7.72 1.47 1.35L5.41 20z\"/>\n",
              "  </svg>\n",
              "      </button>\n",
              "      \n",
              "  <style>\n",
              "    .colab-df-container {\n",
              "      display:flex;\n",
              "      flex-wrap:wrap;\n",
              "      gap: 12px;\n",
              "    }\n",
              "\n",
              "    .colab-df-convert {\n",
              "      background-color: #E8F0FE;\n",
              "      border: none;\n",
              "      border-radius: 50%;\n",
              "      cursor: pointer;\n",
              "      display: none;\n",
              "      fill: #1967D2;\n",
              "      height: 32px;\n",
              "      padding: 0 0 0 0;\n",
              "      width: 32px;\n",
              "    }\n",
              "\n",
              "    .colab-df-convert:hover {\n",
              "      background-color: #E2EBFA;\n",
              "      box-shadow: 0px 1px 2px rgba(60, 64, 67, 0.3), 0px 1px 3px 1px rgba(60, 64, 67, 0.15);\n",
              "      fill: #174EA6;\n",
              "    }\n",
              "\n",
              "    [theme=dark] .colab-df-convert {\n",
              "      background-color: #3B4455;\n",
              "      fill: #D2E3FC;\n",
              "    }\n",
              "\n",
              "    [theme=dark] .colab-df-convert:hover {\n",
              "      background-color: #434B5C;\n",
              "      box-shadow: 0px 1px 3px 1px rgba(0, 0, 0, 0.15);\n",
              "      filter: drop-shadow(0px 1px 2px rgba(0, 0, 0, 0.3));\n",
              "      fill: #FFFFFF;\n",
              "    }\n",
              "  </style>\n",
              "\n",
              "      <script>\n",
              "        const buttonEl =\n",
              "          document.querySelector('#df-6119c15a-c5e7-41d9-ab93-e6c60ed3f7a4 button.colab-df-convert');\n",
              "        buttonEl.style.display =\n",
              "          google.colab.kernel.accessAllowed ? 'block' : 'none';\n",
              "\n",
              "        async function convertToInteractive(key) {\n",
              "          const element = document.querySelector('#df-6119c15a-c5e7-41d9-ab93-e6c60ed3f7a4');\n",
              "          const dataTable =\n",
              "            await google.colab.kernel.invokeFunction('convertToInteractive',\n",
              "                                                     [key], {});\n",
              "          if (!dataTable) return;\n",
              "\n",
              "          const docLinkHtml = 'Like what you see? Visit the ' +\n",
              "            '<a target=\"_blank\" href=https://colab.research.google.com/notebooks/data_table.ipynb>data table notebook</a>'\n",
              "            + ' to learn more about interactive tables.';\n",
              "          element.innerHTML = '';\n",
              "          dataTable['output_type'] = 'display_data';\n",
              "          await google.colab.output.renderOutput(dataTable, element);\n",
              "          const docLink = document.createElement('div');\n",
              "          docLink.innerHTML = docLinkHtml;\n",
              "          element.appendChild(docLink);\n",
              "        }\n",
              "      </script>\n",
              "    </div>\n",
              "  </div>\n",
              "  "
            ]
          },
          "metadata": {},
          "execution_count": 4
        }
      ]
    },
    {
      "cell_type": "code",
      "source": [
        "\n",
        "data.info()"
      ],
      "metadata": {
        "colab": {
          "base_uri": "https://localhost:8080/"
        },
        "id": "8HUh_8DOSqu-",
        "outputId": "2e4c69d3-05b1-4c50-b4aa-b0af4d49d4fd"
      },
      "execution_count": 5,
      "outputs": [
        {
          "output_type": "stream",
          "name": "stdout",
          "text": [
            "<class 'pandas.core.frame.DataFrame'>\n",
            "RangeIndex: 90189 entries, 0 to 90188\n",
            "Data columns (total 5 columns):\n",
            " #   Column          Non-Null Count  Dtype \n",
            "---  ------          --------------  ----- \n",
            " 0   userid          90189 non-null  int64 \n",
            " 1   version         90189 non-null  object\n",
            " 2   sum_gamerounds  90189 non-null  int64 \n",
            " 3   retention_1     90189 non-null  int64 \n",
            " 4   retention_7     90189 non-null  int64 \n",
            "dtypes: int64(4), object(1)\n",
            "memory usage: 3.4+ MB\n"
          ]
        }
      ]
    },
    {
      "cell_type": "markdown",
      "source": [
        "В файле 90189 строк, нулевых строк нет."
      ],
      "metadata": {
        "id": "r7CAEMRhS2LX"
      }
    },
    {
      "cell_type": "code",
      "source": [
        "data.shape"
      ],
      "metadata": {
        "colab": {
          "base_uri": "https://localhost:8080/"
        },
        "id": "rb2P8ALvS1_A",
        "outputId": "9c623d7a-204b-41dc-a2ff-24bce678ff54"
      },
      "execution_count": 6,
      "outputs": [
        {
          "output_type": "execute_result",
          "data": {
            "text/plain": [
              "(90189, 5)"
            ]
          },
          "metadata": {},
          "execution_count": 6
        }
      ]
    },
    {
      "cell_type": "markdown",
      "source": [
        "Количество уникальных игроков:"
      ],
      "metadata": {
        "id": "0wvQkTuo9hcL"
      }
    },
    {
      "cell_type": "code",
      "source": [
        "data['userid'].nunique()"
      ],
      "metadata": {
        "colab": {
          "base_uri": "https://localhost:8080/"
        },
        "id": "vi2OFXL39L50",
        "outputId": "53ef8476-33ea-4edd-e776-338f21b4299b"
      },
      "execution_count": 7,
      "outputs": [
        {
          "output_type": "execute_result",
          "data": {
            "text/plain": [
              "90189"
            ]
          },
          "metadata": {},
          "execution_count": 7
        }
      ]
    },
    {
      "cell_type": "markdown",
      "source": [
        "Оценим количество игроков в каждой тестовой группе (gate30 и gate40)."
      ],
      "metadata": {
        "id": "b6LOr_0QDsxD"
      }
    },
    {
      "cell_type": "code",
      "source": [
        "data.groupby('version')['version'].count()"
      ],
      "metadata": {
        "colab": {
          "base_uri": "https://localhost:8080/"
        },
        "id": "8dR7E867XqHB",
        "outputId": "bf227376-bf64-461b-8393-bb3e2096d26b"
      },
      "execution_count": 8,
      "outputs": [
        {
          "output_type": "execute_result",
          "data": {
            "text/plain": [
              "version\n",
              "gate_30    44700\n",
              "gate_40    45489\n",
              "Name: version, dtype: int64"
            ]
          },
          "metadata": {},
          "execution_count": 8
        }
      ]
    },
    {
      "cell_type": "markdown",
      "source": [
        "Количество игроков в тестовых группах примерно одинаково."
      ],
      "metadata": {
        "id": "-Nb_tsTkEVsr"
      }
    },
    {
      "cell_type": "markdown",
      "source": [
        "Построим график распределения количества игровых раундов, сыгранных в течение 1 недели"
      ],
      "metadata": {
        "id": "lOv9Q9rnEi5k"
      }
    },
    {
      "cell_type": "code",
      "source": [
        "plot_df = data.groupby('sum_gamerounds').count().reset_index()\n",
        "\n",
        "ax = plot_df.head(n=200).plot('sum_gamerounds', 'userid')\n",
        "ax.set_xlabel(\"Раунды\")\n",
        "ax.set_ylabel(\"Количество игроков\")\n",
        "ax.set_title(\"Количество игровых раундов, сыгранных в течение первой недели\");"
      ],
      "metadata": {
        "colab": {
          "base_uri": "https://localhost:8080/",
          "height": 472
        },
        "id": "XgWNrvtSgE5H",
        "outputId": "23ef08ac-c9df-463c-ed0c-75af746d18f6"
      },
      "execution_count": 9,
      "outputs": [
        {
          "output_type": "display_data",
          "data": {
            "text/plain": [
              "<Figure size 640x480 with 1 Axes>"
            ],
            "image/png": "[encoded data removed]"
          },
          "metadata": {}
        }
      ]
    },
    {
      "cell_type": "markdown",
      "source": [
        "Видим, что некоторое количество пользователей устанавливают игру, но не играют в нее."
      ],
      "metadata": {
        "id": "cdtVHUk-WPxU"
      }
    },
    {
      "cell_type": "markdown",
      "source": [
        "Таких пользователей:"
      ],
      "metadata": {
        "id": "QIvPjHDhWfiG"
      }
    },
    {
      "cell_type": "code",
      "source": [
        "data[data[\"sum_gamerounds\"]== 0][\"userid\"].count()"
      ],
      "metadata": {
        "colab": {
          "base_uri": "https://localhost:8080/"
        },
        "id": "5MDyn71cWghJ",
        "outputId": "ec138b0b-cf91-4b18-8550-5e7fed417070"
      },
      "execution_count": 10,
      "outputs": [
        {
          "output_type": "execute_result",
          "data": {
            "text/plain": [
              "3994"
            ]
          },
          "metadata": {},
          "execution_count": 10
        }
      ]
    },
    {
      "cell_type": "markdown",
      "source": [
        "Посчитаем однодневные и семидневные удержания."
      ],
      "metadata": {
        "id": "SJVmAbRHXGod"
      }
    },
    {
      "cell_type": "code",
      "source": [
        "df_retention = data[[\"retention_1\",\"retention_7\"]].mean()*100\n",
        "print(f\"1-day retention ratio: {round(df_retention[0],2)}% \\\n",
        "      \\n7-days retention ratio: {round(df_retention[1],2)}%\")"
      ],
      "metadata": {
        "colab": {
          "base_uri": "https://localhost:8080/"
        },
        "id": "eN_3xsEbXRIt",
        "outputId": "5d8a11c8-ea81-4ad6-cec5-ff2a1a233f0e"
      },
      "execution_count": 11,
      "outputs": [
        {
          "output_type": "stream",
          "name": "stdout",
          "text": [
            "1-day retention ratio: 44.52%       \n",
            "7-days retention ratio: 18.61%\n"
          ]
        }
      ]
    },
    {
      "cell_type": "markdown",
      "source": [
        "Мы видим, что 44,52% игроков возвращаются через день после установки игры и лишь 18,61% игроков возвращаются через 7 дней после установки игры."
      ],
      "metadata": {
        "id": "U8cq4mOqXjq_"
      }
    },
    {
      "cell_type": "markdown",
      "source": [
        "Прроверим, как показатели удержания отличаются между двумя группами gate30 и gate40."
      ],
      "metadata": {
        "id": "dn3jiHULYNUQ"
      }
    },
    {
      "cell_type": "code",
      "source": [
        "df_retention_ab = data.groupby(\"version\").agg({\"userid\":\"count\", \"retention_1\":\"mean\",\"retention_7\":\"mean\", \"sum_gamerounds\":\"sum\"})\n",
        "df_retention_ab"
      ],
      "metadata": {
        "colab": {
          "base_uri": "https://localhost:8080/",
          "height": 143
        },
        "id": "rdSUGDAiYTRT",
        "outputId": "f1906e13-cce3-4aa3-ddd6-42762143b56b"
      },
      "execution_count": 14,
      "outputs": [
        {
          "output_type": "execute_result",
          "data": {
            "text/plain": [
              "         userid  retention_1  retention_7  sum_gamerounds\n",
              "version                                                  \n",
              "gate_30   44700     0.448188     0.190201         2344795\n",
              "gate_40   45489     0.442283     0.182000         2333530"
            ],
            "text/html": [
              "\n",
              "  <div id=\"df-fbd2ae9a-f202-4e6e-b0ee-2e27e16e7e26\">\n",
              "    <div class=\"colab-df-container\">\n",
              "      <div>\n",
              "<style scoped>\n",
              "    .dataframe tbody tr th:only-of-type {\n",
              "        vertical-align: middle;\n",
              "    }\n",
              "\n",
              "    .dataframe tbody tr th {\n",
              "        vertical-align: top;\n",
              "    }\n",
              "\n",
              "    .dataframe thead th {\n",
              "        text-align: right;\n",
              "    }\n",
              "</style>\n",
              "<table border=\"1\" class=\"dataframe\">\n",
              "  <thead>\n",
              "    <tr style=\"text-align: right;\">\n",
              "      <th></th>\n",
              "      <th>userid</th>\n",
              "      <th>retention_1</th>\n",
              "      <th>retention_7</th>\n",
              "      <th>sum_gamerounds</th>\n",
              "    </tr>\n",
              "    <tr>\n",
              "      <th>version</th>\n",
              "      <th></th>\n",
              "      <th></th>\n",
              "      <th></th>\n",
              "      <th></th>\n",
              "    </tr>\n",
              "  </thead>\n",
              "  <tbody>\n",
              "    <tr>\n",
              "      <th>gate_30</th>\n",
              "      <td>44700</td>\n",
              "      <td>0.448188</td>\n",
              "      <td>0.190201</td>\n",
              "      <td>2344795</td>\n",
              "    </tr>\n",
              "    <tr>\n",
              "      <th>gate_40</th>\n",
              "      <td>45489</td>\n",
              "      <td>0.442283</td>\n",
              "      <td>0.182000</td>\n",
              "      <td>2333530</td>\n",
              "    </tr>\n",
              "  </tbody>\n",
              "</table>\n",
              "</div>\n",
              "      <button class=\"colab-df-convert\" onclick=\"convertToInteractive('df-fbd2ae9a-f202-4e6e-b0ee-2e27e16e7e26')\"\n",
              "              title=\"Convert this dataframe to an interactive table.\"\n",
              "              style=\"display:none;\">\n",
              "        \n",
              "  <svg xmlns=\"http://www.w3.org/2000/svg\" height=\"24px\"viewBox=\"0 0 24 24\"\n",
              "       width=\"24px\">\n",
              "    <path d=\"M0 0h24v24H0V0z\" fill=\"none\"/>\n",
              "    <path d=\"M18.56 5.44l.94 2.06.94-2.06 2.06-.94-2.06-.94-.94-2.06-.94 2.06-2.06.94zm-11 1L8.5 8.5l.94-2.06 2.06-.94-2.06-.94L8.5 2.5l-.94 2.06-2.06.94zm10 10l.94 2.06.94-2.06 2.06-.94-2.06-.94-.94-2.06-.94 2.06-2.06.94z\"/><path d=\"M17.41 7.96l-1.37-1.37c-.4-.4-.92-.59-1.43-.59-.52 0-1.04.2-1.43.59L10.3 9.45l-7.72 7.72c-.78.78-.78 2.05 0 2.83L4 21.41c.39.39.9.59 1.41.59.51 0 1.02-.2 1.41-.59l7.78-7.78 2.81-2.81c.8-.78.8-2.07 0-2.86zM5.41 20L4 18.59l7.72-7.72 1.47 1.35L5.41 20z\"/>\n",
              "  </svg>\n",
              "      </button>\n",
              "      \n",
              "  <style>\n",
              "    .colab-df-container {\n",
              "      display:flex;\n",
              "      flex-wrap:wrap;\n",
              "      gap: 12px;\n",
              "    }\n",
              "\n",
              "    .colab-df-convert {\n",
              "      background-color: #E8F0FE;\n",
              "      border: none;\n",
              "      border-radius: 50%;\n",
              "      cursor: pointer;\n",
              "      display: none;\n",
              "      fill: #1967D2;\n",
              "      height: 32px;\n",
              "      padding: 0 0 0 0;\n",
              "      width: 32px;\n",
              "    }\n",
              "\n",
              "    .colab-df-convert:hover {\n",
              "      background-color: #E2EBFA;\n",
              "      box-shadow: 0px 1px 2px rgba(60, 64, 67, 0.3), 0px 1px 3px 1px rgba(60, 64, 67, 0.15);\n",
              "      fill: #174EA6;\n",
              "    }\n",
              "\n",
              "    [theme=dark] .colab-df-convert {\n",
              "      background-color: #3B4455;\n",
              "      fill: #D2E3FC;\n",
              "    }\n",
              "\n",
              "    [theme=dark] .colab-df-convert:hover {\n",
              "      background-color: #434B5C;\n",
              "      box-shadow: 0px 1px 3px 1px rgba(0, 0, 0, 0.15);\n",
              "      filter: drop-shadow(0px 1px 2px rgba(0, 0, 0, 0.3));\n",
              "      fill: #FFFFFF;\n",
              "    }\n",
              "  </style>\n",
              "\n",
              "      <script>\n",
              "        const buttonEl =\n",
              "          document.querySelector('#df-fbd2ae9a-f202-4e6e-b0ee-2e27e16e7e26 button.colab-df-convert');\n",
              "        buttonEl.style.display =\n",
              "          google.colab.kernel.accessAllowed ? 'block' : 'none';\n",
              "\n",
              "        async function convertToInteractive(key) {\n",
              "          const element = document.querySelector('#df-fbd2ae9a-f202-4e6e-b0ee-2e27e16e7e26');\n",
              "          const dataTable =\n",
              "            await google.colab.kernel.invokeFunction('convertToInteractive',\n",
              "                                                     [key], {});\n",
              "          if (!dataTable) return;\n",
              "\n",
              "          const docLinkHtml = 'Like what you see? Visit the ' +\n",
              "            '<a target=\"_blank\" href=https://colab.research.google.com/notebooks/data_table.ipynb>data table notebook</a>'\n",
              "            + ' to learn more about interactive tables.';\n",
              "          element.innerHTML = '';\n",
              "          dataTable['output_type'] = 'display_data';\n",
              "          await google.colab.output.renderOutput(dataTable, element);\n",
              "          const docLink = document.createElement('div');\n",
              "          docLink.innerHTML = docLinkHtml;\n",
              "          element.appendChild(docLink);\n",
              "        }\n",
              "      </script>\n",
              "    </div>\n",
              "  </div>\n",
              "  "
            ]
          },
          "metadata": {},
          "execution_count": 14
        }
      ]
    },
    {
      "cell_type": "markdown",
      "source": [
        "В группе gate40, по сравнению с контрольной группой, видим небольшое снижение однодневного удержания до 44,2%, в то же время в группе  gate30, наоборот, видим небольшое увеличение до 44,8%.\n",
        "\n",
        "Также ведет себя и  семидневное удержание: в gate40  видим небольшое снижение\n",
        " до 18,2% по сравнению с контрольной группой, в группе gate30 небольшое увеличение до 19%."
      ],
      "metadata": {
        "id": "2Y0Wl34yYu_v"
      }
    },
    {
      "cell_type": "markdown",
      "source": [
        "С помощью метода Bootstrapp создадим образцы начальной загрузки для групп gate30 и gate40."
      ],
      "metadata": {
        "id": "8BICn4zlhD3k"
      }
    },
    {
      "cell_type": "code",
      "source": [
        "boot_1d = []\n",
        "boot_7d = []\n",
        "for i in range(1000):\n",
        "    boot_mean_1 = data.sample(frac=1, replace=True).groupby('version')['retention_1'].mean()\n",
        "    boot_mean_7 = data.sample(frac=1, replace=True).groupby('version')['retention_7'].mean()\n",
        "    boot_1d.append(boot_mean_1)\n",
        "    boot_7d.append(boot_mean_7)"
      ],
      "metadata": {
        "id": "ilivK0Xga2es"
      },
      "execution_count": 21,
      "outputs": []
    },
    {
      "cell_type": "markdown",
      "source": [
        "Преобразуем образцы в DataFrame"
      ],
      "metadata": {
        "id": "rctwyKLwfva4"
      }
    },
    {
      "cell_type": "code",
      "source": [
        "boot_1d = pd.DataFrame(boot_1d)\n",
        "boot_7d = pd.DataFrame(boot_7d)"
      ],
      "metadata": {
        "id": "H3d7YIJDdkgG"
      },
      "execution_count": 22,
      "outputs": []
    },
    {
      "cell_type": "markdown",
      "source": [
        "Выведем графики распределения однодневного и семидневного удержания в группах:"
      ],
      "metadata": {
        "id": "2rtu1cxggC5y"
      }
    },
    {
      "cell_type": "code",
      "source": [
        "fig, (ax1,ax2) = plt.subplots(1, 2, sharey=True, figsize=(13,5))\n",
        "\n",
        "boot_1d.plot.kde(ax=ax1)\n",
        "ax1.set_xlabel(\"retantion rate\",size=12)\n",
        "ax1.set_ylabel(\"number of sample\",size=12)\n",
        "ax1.set_title(\"Распределение однодневного удержания\", fontweight=\"bold\",size=14)\n",
        "\n",
        "boot_7d.plot.kde(ax=ax2)\n",
        "ax2.set_xlabel(\"retantion rate\",size=12)\n",
        "ax2.set_title(\"Распределение семидневного удержания\", fontweight=\"bold\",size=14)\n",
        "plt.show()"
      ],
      "metadata": {
        "colab": {
          "base_uri": "https://localhost:8080/",
          "height": 492
        },
        "id": "X9H-awE_dogw",
        "outputId": "3acca3eb-33a4-4272-dc1c-92fac4b77fd2"
      },
      "execution_count": 26,
      "outputs": [
        {
          "output_type": "display_data",
          "data": {
            "text/plain": [
              "<Figure size 1300x500 with 2 Axes>"
            ],
            "image/png": "[encoded data removed]"
          },
          "metadata": {}
        }
      ]
    },
    {
      "cell_type": "markdown",
      "source": [
        "Видим небольшую разницу как в однодневных т. и в семидневных удержанииях в обеих группах."
      ],
      "metadata": {
        "id": "53yS5GMOd_Gk"
      }
    },
    {
      "cell_type": "markdown",
      "source": [
        "Вычислим процентную разницу:"
      ],
      "metadata": {
        "id": "h6KJY9F3ickb"
      }
    },
    {
      "cell_type": "code",
      "source": [
        "boot_1d['diff'] = ((boot_1d['gate_30'] - boot_1d['gate_40']) / boot_1d['gate_40'] * 100)\n",
        "boot_7d['diff'] = ((boot_7d['gate_30'] - boot_7d['gate_40']) / boot_7d['gate_40'] * 100)\n",
        "fig, (ax1) = plt.subplots(1, 1,figsize=(6,5))\n",
        "\n",
        "boot_1d['diff'].plot.kde(ax=ax1, c=\"#ff99ff\", label = \"однодневное удержание\")\n",
        "boot_7d['diff'].plot.kde(ax=ax1, c= \"#00bfff\", label = \"семидневное удержание\")\n",
        "ax1.set_xlabel(\"% разница\",size=12)\n",
        "ax1.set_ylabel(\"% плотность\",size=12)\n",
        "ax1.set_title(\"Различие в удержании между группами\", fontweight=\"bold\", size=14)\n",
        "plt.legend()\n",
        "plt.show()\n"
      ],
      "metadata": {
        "colab": {
          "base_uri": "https://localhost:8080/",
          "height": 492
        },
        "id": "OoU71pzEiBZ3",
        "outputId": "12f79fc0-31d8-4a89-b051-d551a38a6e8c"
      },
      "execution_count": 40,
      "outputs": [
        {
          "output_type": "display_data",
          "data": {
            "text/plain": [
              "<Figure size 600x500 with 1 Axes>"
            ],
            "image/png": "[encoded data removed]"
          },
          "metadata": {}
        }
      ]
    },
    {
      "cell_type": "markdown",
      "source": [
        "Из этого графика видно, что разница в однодневных удержаниях составляет 1 - 2%, а для семидневного удержания 2 - 5%."
      ],
      "metadata": {
        "id": "im9lRHJ2irPy"
      }
    },
    {
      "cell_type": "markdown",
      "source": [
        "Посчитаем одно и семидневные удержания (в %), когда игрок  находится на уровне выше 30."
      ],
      "metadata": {
        "id": "UFvc-OGEuDxw"
      }
    },
    {
      "cell_type": "code",
      "source": [],
      "metadata": {
        "id": "CZG0Wji377EB"
      },
      "execution_count": null,
      "outputs": []
    },
    {
      "cell_type": "code",
      "source": [
        "prob_1 = (boot_1d['diff']>0).sum()/len(boot_1d['diff'])\n",
        "prob_7 = (boot_7d['diff']>0).sum()/len(boot_7d['diff'])\n",
        "print(f\"Вероятность однодневного удержания выше, когда игрок достигает уровня 30: {round(prob_1,2)*100}% \\\n",
        "      \\nВероятность семидневного удержания выше, когда игрок достигает уровня 30: {(prob_7)*100}% \")"
      ],
      "metadata": {
        "colab": {
          "base_uri": "https://localhost:8080/"
        },
        "id": "yvZjRVZuuGHQ",
        "outputId": "5dc558f0-9545-4d28-d96f-c19e688bb5d6"
      },
      "execution_count": 38,
      "outputs": [
        {
          "output_type": "stream",
          "name": "stdout",
          "text": [
            "Вероятность однодневного удержания выше, когда игрок достигает уровня 30: 97.0%       \n",
            "Вероятность семидневного удержания выше, когда игрок достигает уровня 30: 100.0% \n"
          ]
        }
      ]
    },
    {
      "cell_type": "markdown",
      "source": [
        "Результат bootstrap показывает, что семидневные удержания выше, когда игроки проходит уровень 30.\n",
        "\n",
        "**Если мы хотим сохранить как однодневные, т. и семидневные удержания на высоком уровне, мы не должны позволять игрокам подниматься выше уровня 30.**"
      ],
      "metadata": {
        "id": "HG6MEC51vrOD"
      }
    }
  ]
}